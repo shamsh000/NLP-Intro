{
 "cells": [
  {
   "cell_type": "code",
   "execution_count": 2,
   "metadata": {
    "scrolled": true
   },
   "outputs": [],
   "source": [
    "import nltk\n",
    "from gensim.models import word2vec\n",
    "from gensim.models.word2vec import Word2Vec"
   ]
  },
  {
   "cell_type": "code",
   "execution_count": 3,
   "metadata": {},
   "outputs": [],
   "source": [
    "import numpy as np\n",
    "import matplotlib.pyplot as plt\n",
    "import os"
   ]
  },
  {
   "cell_type": "markdown",
   "metadata": {},
   "source": [
    "### Creating our sentences to train the word vectors"
   ]
  },
  {
   "cell_type": "code",
   "execution_count": 4,
   "metadata": {},
   "outputs": [],
   "source": [
    "TextCorpus  = [\"I like Machine learning\",\n",
    "               \"PGAM has a good ML program\",\n",
    "               \"UT TX has good faculty\",\n",
    "               \"professor A is that good faculty\",\n",
    "               \"I like ML\"\n",
    "]"
   ]
  },
  {
   "cell_type": "code",
   "execution_count": 5,
   "metadata": {},
   "outputs": [
    {
     "data": {
      "text/plain": [
       "[['I', 'like', 'Machine', 'learning'],\n",
       " ['PGAM', 'has', 'a', 'good', 'ML', 'program']]"
      ]
     },
     "execution_count": 5,
     "metadata": {},
     "output_type": "execute_result"
    }
   ],
   "source": [
    "text_tokens = [sent.split() for sent in TextCorpus]\n",
    "text_tokens[:2]"
   ]
  },
  {
   "cell_type": "markdown",
   "metadata": {},
   "source": [
    "#### Training the word vectors"
   ]
  },
  {
   "cell_type": "code",
   "execution_count": 6,
   "metadata": {},
   "outputs": [],
   "source": [
    "model = Word2Vec(text_tokens,min_count=1)"
   ]
  },
  {
   "cell_type": "code",
   "execution_count": 7,
   "metadata": {},
   "outputs": [
    {
     "data": {
      "text/plain": [
       "array([ 0.00393187, -0.00441841,  0.00336012, -0.00289895, -0.00361418,\n",
       "        0.00452282,  0.00012504, -0.00125611,  0.00054152,  0.0039671 ,\n",
       "       -0.00204946,  0.00451079,  0.00130186,  0.00056118,  0.0046137 ,\n",
       "       -0.00486615,  0.00062221,  0.00372938, -0.00160419,  0.00387281,\n",
       "        0.00339515,  0.00248935,  0.00043701, -0.00153362, -0.00492154,\n",
       "        0.00467638, -0.00151259, -0.00269917, -0.00088154, -0.00165638,\n",
       "        0.00496401,  0.00296144, -0.00308373, -0.00434702,  0.00222743,\n",
       "        0.0020859 ,  0.00159709, -0.00362089,  0.00148063,  0.0045369 ,\n",
       "        0.00427724, -0.00017331,  0.00438847, -0.00257889,  0.00020561,\n",
       "        0.00230332, -0.00272015,  0.00233624,  0.00239662,  0.00406365,\n",
       "        0.00494455, -0.00392717,  0.00360335, -0.00422126,  0.00340597,\n",
       "        0.00025718, -0.00011456, -0.00107163,  0.00107791, -0.0009445 ,\n",
       "       -0.00245206, -0.00271988,  0.00152714, -0.0005943 ,  0.00486545,\n",
       "       -0.00016927, -0.0028674 ,  0.00332218,  0.00090884,  0.00301414,\n",
       "        0.00422845, -0.00065407, -0.00115182, -0.00266132, -0.00396749,\n",
       "       -0.0033056 ,  0.00182156,  0.00431566, -0.00333298,  0.00198428,\n",
       "        0.0008831 , -0.0010556 ,  0.00206871,  0.00416579, -0.00346078,\n",
       "       -0.00125427,  0.0010448 ,  0.00127421, -0.00396414, -0.00387653,\n",
       "        0.00185249, -0.0019767 ,  0.00017309, -0.00083116, -0.00444902,\n",
       "       -0.00079361, -0.00107803, -0.00466331, -0.00336535, -0.00101849],\n",
       "      dtype=float32)"
      ]
     },
     "execution_count": 7,
     "metadata": {},
     "output_type": "execute_result"
    }
   ],
   "source": [
    "model.wv['ML']"
   ]
  },
  {
   "cell_type": "code",
   "execution_count": 8,
   "metadata": {},
   "outputs": [
    {
     "data": {
      "text/plain": [
       "100"
      ]
     },
     "execution_count": 8,
     "metadata": {},
     "output_type": "execute_result"
    }
   ],
   "source": [
    "len(model.wv['ML'])"
   ]
  },
  {
   "cell_type": "markdown",
   "metadata": {},
   "source": [
    "Similarity between word vectors is measures using Cosine similarity"
   ]
  },
  {
   "cell_type": "code",
   "execution_count": 9,
   "metadata": {},
   "outputs": [
    {
     "data": {
      "text/plain": [
       "[('has', 0.1575240194797516),\n",
       " ('TX', 0.12230820208787918),\n",
       " ('is', 0.1023259162902832),\n",
       " ('I', 0.09490247070789337),\n",
       " ('program', 0.08471820503473282)]"
      ]
     },
     "execution_count": 9,
     "metadata": {},
     "output_type": "execute_result"
    }
   ],
   "source": [
    "model.wv.most_similar(\"faculty\",topn=5)"
   ]
  },
  {
   "cell_type": "markdown",
   "metadata": {},
   "source": [
    "### Training our word vectors on the text8 corpus\n",
    "Cleaned Wikipedia text, compressed to 100MB"
   ]
  },
  {
   "cell_type": "markdown",
   "metadata": {},
   "source": [
    "#### Importing the raw text file"
   ]
  },
  {
   "cell_type": "code",
   "execution_count": 10,
   "metadata": {},
   "outputs": [],
   "source": [
    "sentences = word2vec.Text8Corpus('text8')# text8 cna be downloaded from http://mattmahoney.net/dc/text8.zip"
   ]
  },
  {
   "cell_type": "markdown",
   "metadata": {},
   "source": [
    "#### Using all default parameters"
   ]
  },
  {
   "cell_type": "code",
   "execution_count": 11,
   "metadata": {
    "scrolled": true
   },
   "outputs": [],
   "source": [
    "model = Word2Vec(sentences)"
   ]
  },
  {
   "cell_type": "code",
   "execution_count": 12,
   "metadata": {},
   "outputs": [
    {
     "name": "stderr",
     "output_type": "stream",
     "text": [
      "C:\\Users\\shams\\Anaconda3\\envs\\tensorflow\\lib\\site-packages\\ipykernel_launcher.py:1: DeprecationWarning: Call to deprecated `__getitem__` (Method will be removed in 4.0.0, use self.wv.__getitem__() instead).\n",
      "  \"\"\"Entry point for launching an IPython kernel.\n"
     ]
    }
   ],
   "source": [
    "q = model['queen']"
   ]
  },
  {
   "cell_type": "code",
   "execution_count": 13,
   "metadata": {},
   "outputs": [
    {
     "name": "stderr",
     "output_type": "stream",
     "text": [
      "C:\\Users\\shams\\Anaconda3\\envs\\tensorflow\\lib\\site-packages\\ipykernel_launcher.py:1: DeprecationWarning: Call to deprecated `most_similar` (Method will be removed in 4.0.0, use self.wv.most_similar() instead).\n",
      "  \"\"\"Entry point for launching an IPython kernel.\n"
     ]
    },
    {
     "data": {
      "text/plain": [
       "[('baby', 0.7990880012512207),\n",
       " ('kid', 0.7896857857704163),\n",
       " ('woman', 0.7602214813232422),\n",
       " ('blonde', 0.7559003829956055),\n",
       " ('boy', 0.7532691955566406),\n",
       " ('girls', 0.7191653251647949),\n",
       " ('lucy', 0.708946943283081),\n",
       " ('cat', 0.7043458819389343),\n",
       " ('duck', 0.6951346397399902),\n",
       " ('rabbit', 0.6899293065071106)]"
      ]
     },
     "execution_count": 13,
     "metadata": {},
     "output_type": "execute_result"
    }
   ],
   "source": [
    "model.most_similar('girl')"
   ]
  },
  {
   "cell_type": "code",
   "execution_count": 14,
   "metadata": {},
   "outputs": [
    {
     "name": "stdout",
     "output_type": "stream",
     "text": [
      "[('king', 0.6451611518859863)]\n"
     ]
    },
    {
     "name": "stderr",
     "output_type": "stream",
     "text": [
      "C:\\Users\\shams\\Anaconda3\\envs\\tensorflow\\lib\\site-packages\\ipykernel_launcher.py:1: DeprecationWarning: Call to deprecated `most_similar` (Method will be removed in 4.0.0, use self.wv.most_similar() instead).\n",
      "  \"\"\"Entry point for launching an IPython kernel.\n"
     ]
    }
   ],
   "source": [
    "print(model.most_similar(positive=['boy','queen'],negative=['girl'], topn=1))"
   ]
  },
  {
   "cell_type": "code",
   "execution_count": 15,
   "metadata": {},
   "outputs": [],
   "source": [
    "from sklearn.manifold import TSNE\n",
    "vocab = [\"boy\", \"girl\", \"man\", \"woman\", \"king\", \"queen\", \"banana\", \"apple\", \"mango\", \"fruit\", \"coconut\", \"orange\"]"
   ]
  },
  {
   "cell_type": "code",
   "execution_count": 16,
   "metadata": {},
   "outputs": [],
   "source": [
    "def tsne_plot(model):\n",
    "    labels = []\n",
    "    wordvecs = []\n",
    "    for word in vocab:\n",
    "        wordvecs.append(model[word])\n",
    "        labels.append(word)\n",
    "    tsne_model = TSNE(perplexity=3, n_components=2,init='pca', random_state=42)\n",
    "    coordinates = tsne_model.fit_transform(wordvecs)\n",
    "    \n",
    "    x = []\n",
    "    y = []\n",
    "    for value in coordinates:\n",
    "        x.append(value[0])\n",
    "        y.append(value[1])\n",
    "    \n",
    "    plt.figure(figsize=(8,8))\n",
    "    for i in range(len(x)):\n",
    "        plt.scatter(x[i], y[i])\n",
    "        plt.annotate(labels[i], xy=(x[i], y[i]), xytext=(2,2), textcoords='offset points', ha='right', va='bottom')\n",
    "    plt.show()"
   ]
  },
  {
   "cell_type": "code",
   "execution_count": 17,
   "metadata": {},
   "outputs": [
    {
     "name": "stderr",
     "output_type": "stream",
     "text": [
      "C:\\Users\\shams\\Anaconda3\\envs\\tensorflow\\lib\\site-packages\\ipykernel_launcher.py:5: DeprecationWarning: Call to deprecated `__getitem__` (Method will be removed in 4.0.0, use self.wv.__getitem__() instead).\n",
      "  \"\"\"\n"
     ]
    },
    {
     "data": {
      "image/png": "[encoded data removed]",
      "text/plain": [
       "<Figure size 576x576 with 1 Axes>"
      ]
     },
     "metadata": {
      "needs_background": "light"
     },
     "output_type": "display_data"
    }
   ],
   "source": [
    "tsne_plot(model)"
   ]
  },
  {
   "cell_type": "code",
   "execution_count": null,
   "metadata": {},
   "outputs": [],
   "source": []
  },
  {
   "cell_type": "code",
   "execution_count": 18,
   "metadata": {},
   "outputs": [
    {
     "data": {
      "text/plain": [
       "[('humanity', 0.8187832236289978),\n",
       " ('pleasure', 0.7597636580467224),\n",
       " ('perfection', 0.7569164037704468),\n",
       " ('salvation', 0.7560180425643921),\n",
       " ('mankind', 0.755362868309021),\n",
       " ('goodness', 0.7503138780593872),\n",
       " ('compassion', 0.7372018694877625),\n",
       " ('striving', 0.7341852784156799),\n",
       " ('righteousness', 0.7315574288368225),\n",
       " ('desires', 0.7311034202575684)]"
      ]
     },
     "execution_count": 18,
     "metadata": {},
     "output_type": "execute_result"
    }
   ],
   "source": [
    "model.wv.most_similar(\"happiness\")"
   ]
  },
  {
   "cell_type": "code",
   "execution_count": 19,
   "metadata": {
    "scrolled": true
   },
   "outputs": [
    {
     "data": {
      "text/plain": [
       "[('princess', 0.7823585867881775),\n",
       " ('prince', 0.748436450958252),\n",
       " ('elizabeth', 0.7452001571655273),\n",
       " ('king', 0.7270873785018921),\n",
       " ('consort', 0.6760820746421814),\n",
       " ('mary', 0.6506506204605103),\n",
       " ('crown', 0.6375426054000854),\n",
       " ('diana', 0.6356901526451111),\n",
       " ('regent', 0.6289559006690979),\n",
       " ('isabella', 0.6104800701141357)]"
      ]
     },
     "execution_count": 19,
     "metadata": {},
     "output_type": "execute_result"
    }
   ],
   "source": [
    "model.wv.most_similar(\"queen\")"
   ]
  },
  {
   "cell_type": "markdown",
   "metadata": {},
   "source": [
    " "
   ]
  },
  {
   "cell_type": "markdown",
   "metadata": {},
   "source": [
    " "
   ]
  },
  {
   "cell_type": "markdown",
   "metadata": {},
   "source": [
    " "
   ]
  },
  {
   "cell_type": "markdown",
   "metadata": {},
   "source": [
    " "
   ]
  },
  {
   "cell_type": "markdown",
   "metadata": {},
   "source": [
    " "
   ]
  },
  {
   "cell_type": "markdown",
   "metadata": {},
   "source": [
    " "
   ]
  },
  {
   "cell_type": "markdown",
   "metadata": {},
   "source": [
    " "
   ]
  },
  {
   "cell_type": "markdown",
   "metadata": {},
   "source": [
    " "
   ]
  },
  {
   "cell_type": "markdown",
   "metadata": {},
   "source": [
    "#### Semantic regularities captured in word embeddings"
   ]
  },
  {
   "cell_type": "code",
   "execution_count": 20,
   "metadata": {},
   "outputs": [
    {
     "data": {
      "text/plain": [
       "[('queen', 0.6707719564437866),\n",
       " ('emperor', 0.6254715919494629),\n",
       " ('prince', 0.6140930652618408),\n",
       " ('empress', 0.6072925329208374),\n",
       " ('princess', 0.6036636829376221)]"
      ]
     },
     "execution_count": 20,
     "metadata": {},
     "output_type": "execute_result"
    }
   ],
   "source": [
    "model.wv.most_similar(positive=['woman', 'king'], negative=['man'], topn=5)"
   ]
  },
  {
   "cell_type": "code",
   "execution_count": 21,
   "metadata": {},
   "outputs": [
    {
     "data": {
      "text/plain": [
       "[('heroine', 0.6687352061271667),\n",
       " ('legendary', 0.6539583206176758),\n",
       " ('protagonist', 0.629598081111908),\n",
       " ('villain', 0.6085561513900757),\n",
       " ('warrior', 0.6054842472076416)]"
      ]
     },
     "execution_count": 21,
     "metadata": {},
     "output_type": "execute_result"
    }
   ],
   "source": [
    "model.wv.most_similar(positive=['woman', 'hero'], negative=['man'], topn=5)"
   ]
  },
  {
   "cell_type": "markdown",
   "metadata": {},
   "source": [
    "### Visualizing these word vectors"
   ]
  },
  {
   "cell_type": "code",
   "execution_count": 22,
   "metadata": {},
   "outputs": [],
   "source": [
    "X = model.wv[model.wv.vocab]"
   ]
  },
  {
   "cell_type": "markdown",
   "metadata": {},
   "source": [
    "##### We'll use PCA to reduce and visualize in 2 dimensions"
   ]
  },
  {
   "cell_type": "code",
   "execution_count": 23,
   "metadata": {},
   "outputs": [],
   "source": [
    "from sklearn.decomposition import PCA"
   ]
  },
  {
   "cell_type": "code",
   "execution_count": 24,
   "metadata": {},
   "outputs": [],
   "source": [
    "pca = PCA(n_components=2)\n",
    "result = pca.fit_transform(X)"
   ]
  },
  {
   "cell_type": "markdown",
   "metadata": {},
   "source": [
    "Randomly select 100 words"
   ]
  },
  {
   "cell_type": "code",
   "execution_count": 25,
   "metadata": {},
   "outputs": [],
   "source": [
    "import random\n",
    "random.seed(2)"
   ]
  },
  {
   "cell_type": "code",
   "execution_count": 26,
   "metadata": {
    "scrolled": true
   },
   "outputs": [],
   "source": [
    "ind = random.sample(range(0,len(X)),100)\n",
    "result_random = result[ind]\n",
    "all_words = list(model.wv.vocab)\n",
    "words = [all_words[i] for i in ind]"
   ]
  },
  {
   "cell_type": "code",
   "execution_count": 27,
   "metadata": {},
   "outputs": [
    {
     "data": {
      "image/png": "[encoded data removed]",
      "text/plain": [
       "<Figure size 864x864 with 1 Axes>"
      ]
     },
     "metadata": {
      "needs_background": "light"
     },
     "output_type": "display_data"
    }
   ],
   "source": [
    "plt.figure(figsize=(12,12))\n",
    "plt.scatter(result_random[:,0], result_random[:,1])\n",
    "for i, word in enumerate(words):\n",
    "    plt.annotate(word, xy=(result_random[i, 0], result_random[i, 1]))\n",
    "plt.show()"
   ]
  },
  {
   "cell_type": "markdown",
   "metadata": {},
   "source": [
    "## Effect of vector dimension"
   ]
  },
  {
   "cell_type": "markdown",
   "metadata": {},
   "source": [
    "#### Reducing the length to 50"
   ]
  },
  {
   "cell_type": "code",
   "execution_count": 28,
   "metadata": {},
   "outputs": [],
   "source": [
    "model = Word2Vec(sentences, size=50)"
   ]
  },
  {
   "cell_type": "code",
   "execution_count": 29,
   "metadata": {},
   "outputs": [
    {
     "data": {
      "text/plain": [
       "[('profits', 0.8023641109466553),\n",
       " ('credit', 0.7839184999465942),\n",
       " ('funds', 0.7633928656578064),\n",
       " ('payment', 0.7432807683944702),\n",
       " ('buying', 0.7414658665657043),\n",
       " ('payments', 0.7227416634559631),\n",
       " ('royalties', 0.7226705551147461),\n",
       " ('debts', 0.7201098203659058),\n",
       " ('compensation', 0.7194818258285522),\n",
       " ('pay', 0.7161986827850342)]"
      ]
     },
     "execution_count": 29,
     "metadata": {},
     "output_type": "execute_result"
    }
   ],
   "source": [
    "model.wv.most_similar(\"money\")"
   ]
  },
  {
   "cell_type": "code",
   "execution_count": 30,
   "metadata": {},
   "outputs": [
    {
     "data": {
      "text/plain": [
       "[('princess', 0.8160459399223328),\n",
       " ('elizabeth', 0.8069237470626831),\n",
       " ('prince', 0.7848668694496155),\n",
       " ('king', 0.770031213760376),\n",
       " ('consort', 0.747631847858429)]"
      ]
     },
     "execution_count": 30,
     "metadata": {},
     "output_type": "execute_result"
    }
   ],
   "source": [
    "model.wv.most_similar(\"queen\", topn=5)"
   ]
  },
  {
   "cell_type": "code",
   "execution_count": 31,
   "metadata": {
    "scrolled": true
   },
   "outputs": [
    {
     "data": {
      "text/plain": [
       "[('empress', 0.7560046911239624),\n",
       " ('son', 0.7527749538421631),\n",
       " ('queen', 0.7096380591392517),\n",
       " ('viii', 0.6945804357528687),\n",
       " ('consul', 0.6931684017181396)]"
      ]
     },
     "execution_count": 31,
     "metadata": {},
     "output_type": "execute_result"
    }
   ],
   "source": [
    "model.wv.most_similar(positive=['woman', 'king'], negative=['man'], topn=5)"
   ]
  },
  {
   "cell_type": "markdown",
   "metadata": {},
   "source": [
    " "
   ]
  },
  {
   "cell_type": "markdown",
   "metadata": {},
   "source": [
    " "
   ]
  },
  {
   "cell_type": "markdown",
   "metadata": {},
   "source": [
    " "
   ]
  },
  {
   "cell_type": "markdown",
   "metadata": {},
   "source": [
    " "
   ]
  },
  {
   "cell_type": "markdown",
   "metadata": {},
   "source": [
    " "
   ]
  },
  {
   "cell_type": "markdown",
   "metadata": {},
   "source": [
    " "
   ]
  },
  {
   "cell_type": "markdown",
   "metadata": {},
   "source": [
    " "
   ]
  },
  {
   "cell_type": "markdown",
   "metadata": {},
   "source": [
    "#### Inreasing vector length to 300"
   ]
  },
  {
   "cell_type": "code",
   "execution_count": 32,
   "metadata": {},
   "outputs": [],
   "source": [
    "model = word2vec.Word2Vec(sentences, size = 300)"
   ]
  },
  {
   "cell_type": "code",
   "execution_count": 33,
   "metadata": {},
   "outputs": [
    {
     "data": {
      "text/plain": [
       "[('profits', 0.7082163691520691),\n",
       " ('payment', 0.6816314458847046),\n",
       " ('credit', 0.6765713095664978),\n",
       " ('payments', 0.6549445390701294),\n",
       " ('buying', 0.6480629444122314),\n",
       " ('cash', 0.6393184661865234),\n",
       " ('taxes', 0.6363804936408997),\n",
       " ('funds', 0.6313327550888062),\n",
       " ('tax', 0.6273378133773804),\n",
       " ('royalties', 0.6260689496994019)]"
      ]
     },
     "execution_count": 33,
     "metadata": {},
     "output_type": "execute_result"
    }
   ],
   "source": [
    "model.wv.most_similar(\"money\")"
   ]
  },
  {
   "cell_type": "code",
   "execution_count": 34,
   "metadata": {
    "scrolled": true
   },
   "outputs": [
    {
     "data": {
      "text/plain": [
       "[('elizabeth', 0.7571253776550293),\n",
       " ('princess', 0.7294096350669861),\n",
       " ('prince', 0.7095794677734375),\n",
       " ('consort', 0.668662428855896),\n",
       " ('king', 0.6664098501205444),\n",
       " ('regent', 0.6458760499954224),\n",
       " ('duchess', 0.6406625509262085),\n",
       " ('victoria', 0.6353797912597656),\n",
       " ('crown', 0.6330767869949341),\n",
       " ('mary', 0.6327143311500549)]"
      ]
     },
     "execution_count": 34,
     "metadata": {},
     "output_type": "execute_result"
    }
   ],
   "source": [
    "model.wv.most_similar(\"queen\")"
   ]
  },
  {
   "cell_type": "code",
   "execution_count": 35,
   "metadata": {
    "scrolled": true
   },
   "outputs": [
    {
     "data": {
      "text/plain": [
       "[('queen', 0.6451364159584045),\n",
       " ('empress', 0.555202841758728),\n",
       " ('isabella', 0.5459343194961548),\n",
       " ('throne', 0.5455340147018433),\n",
       " ('prince', 0.5423969626426697)]"
      ]
     },
     "execution_count": 35,
     "metadata": {},
     "output_type": "execute_result"
    }
   ],
   "source": [
    "model.wv.most_similar(positive=['woman', 'king'], negative=['man'], topn=5)"
   ]
  },
  {
   "cell_type": "markdown",
   "metadata": {},
   "source": [
    "## Skip gram vs CBOW"
   ]
  },
  {
   "cell_type": "markdown",
   "metadata": {},
   "source": [
    "Simply put, the CBOW model learns the embedding by predicting the current word based on its context. The skip-gram model learns by predicting the surrounding words given a current word."
   ]
  },
  {
   "cell_type": "markdown",
   "metadata": {},
   "source": [
    "![](https://3qeqpr26caki16dnhd19sv6by6v-wpengine.netdna-ssl.com/wp-content/uploads/2017/08/Word2Vec-Training-Models.png)"
   ]
  },
  {
   "cell_type": "markdown",
   "metadata": {},
   "source": [
    "#### Using Skipgram method"
   ]
  },
  {
   "cell_type": "code",
   "execution_count": 36,
   "metadata": {},
   "outputs": [],
   "source": [
    "model_sg = word2vec.Word2Vec(sentences, size=100,sg=1)"
   ]
  },
  {
   "cell_type": "code",
   "execution_count": 37,
   "metadata": {},
   "outputs": [
    {
     "data": {
      "text/plain": [
       "[('dividends', 0.7894406318664551),\n",
       " ('repay', 0.7538312673568726),\n",
       " ('credit', 0.7525813579559326),\n",
       " ('payments', 0.7435339689254761),\n",
       " ('recoup', 0.7373378276824951),\n",
       " ('taxes', 0.7366256713867188),\n",
       " ('dues', 0.7289210557937622),\n",
       " ('debts', 0.7280930280685425),\n",
       " ('pay', 0.7270780205726624),\n",
       " ('specie', 0.7252786159515381)]"
      ]
     },
     "execution_count": 37,
     "metadata": {},
     "output_type": "execute_result"
    }
   ],
   "source": [
    "model_sg.wv.most_similar(\"money\")"
   ]
  },
  {
   "cell_type": "code",
   "execution_count": 38,
   "metadata": {},
   "outputs": [
    {
     "data": {
      "text/plain": [
       "[('elizabeth', 0.8001238703727722),\n",
       " ('consort', 0.7506184577941895),\n",
       " ('highness', 0.748704195022583),\n",
       " ('king', 0.7357900142669678),\n",
       " ('prince', 0.7260781526565552),\n",
       " ('margrethe', 0.7259289026260376),\n",
       " ('isabella', 0.7111678719520569),\n",
       " ('princess', 0.7061107754707336),\n",
       " ('regnant', 0.7043166160583496),\n",
       " ('hrh', 0.6982150077819824)]"
      ]
     },
     "execution_count": 38,
     "metadata": {},
     "output_type": "execute_result"
    }
   ],
   "source": [
    "model_sg.wv.most_similar(\"queen\")"
   ]
  },
  {
   "cell_type": "code",
   "execution_count": 39,
   "metadata": {},
   "outputs": [
    {
     "data": {
      "text/plain": [
       "[('queen', 0.6769178509712219),\n",
       " ('consort', 0.6317269802093506),\n",
       " ('viii', 0.621690571308136),\n",
       " ('jadwiga', 0.6200542449951172),\n",
       " ('sigismund', 0.616452693939209)]"
      ]
     },
     "execution_count": 39,
     "metadata": {},
     "output_type": "execute_result"
    }
   ],
   "source": [
    "model_sg.wv.most_similar(positive=['woman', 'king'], negative=['man'], topn=5)"
   ]
  },
  {
   "cell_type": "code",
   "execution_count": 40,
   "metadata": {},
   "outputs": [
    {
     "data": {
      "text/plain": [
       "[('wadis', 0.9066961407661438),\n",
       " ('basaltic', 0.9004149436950684),\n",
       " ('troughs', 0.899204671382904),\n",
       " ('undulating', 0.8990179300308228),\n",
       " ('sinuous', 0.8930817246437073),\n",
       " ('uplifted', 0.8884227275848389),\n",
       " ('watercourses', 0.8875988721847534),\n",
       " ('featureless', 0.8833255767822266),\n",
       " ('outwash', 0.8830329775810242),\n",
       " ('abyssal', 0.8820391893386841)]"
      ]
     },
     "execution_count": 40,
     "metadata": {},
     "output_type": "execute_result"
    }
   ],
   "source": [
    "model_sg.wv.most_similar(\"meandering\")"
   ]
  },
  {
   "cell_type": "markdown",
   "metadata": {},
   "source": [
    "#### Learning:\n",
    "In CBOW the vectors from the context words are averaged before predicting the center word. In skip-gram there is no averaging of embedding vectors. It seems like the model can learn better representations for the rare words when their vectors are not averaged with the other context words in the process of making the predictions. "
   ]
  },
  {
   "cell_type": "markdown",
   "metadata": {},
   "source": [
    "## Word vectors trained on different contexts\n",
    " - We'll load different corpora, from different contexts and see how the embeddings vary\n",
    " - The text8 corpus is wikipedia pages, while Brown corpus is from 15 different topics, and movie reviews are from IMDB"
   ]
  },
  {
   "cell_type": "code",
   "execution_count": 41,
   "metadata": {},
   "outputs": [
    {
     "name": "stderr",
     "output_type": "stream",
     "text": [
      "[nltk_data] Downloading package movie_reviews to\n",
      "[nltk_data]     C:\\Users\\shams\\AppData\\Roaming\\nltk_data...\n",
      "[nltk_data]   Package movie_reviews is already up-to-date!\n"
     ]
    },
    {
     "data": {
      "text/plain": [
       "True"
      ]
     },
     "execution_count": 41,
     "metadata": {},
     "output_type": "execute_result"
    }
   ],
   "source": [
    "from nltk.corpus import brown, movie_reviews\n",
    "import nltk\n",
    "nltk.download('movie_reviews')"
   ]
  },
  {
   "cell_type": "code",
   "execution_count": 42,
   "metadata": {},
   "outputs": [],
   "source": [
    "model_brown = Word2Vec(brown.sents(), sg=1)\n",
    "model_movie = Word2Vec(movie_reviews.sents(), sg=1, window=5)"
   ]
  },
  {
   "cell_type": "code",
   "execution_count": 43,
   "metadata": {},
   "outputs": [
    {
     "data": {
      "text/plain": [
       "[('dividends', 0.7894406318664551),\n",
       " ('repay', 0.7538312673568726),\n",
       " ('credit', 0.7525813579559326),\n",
       " ('payments', 0.7435339689254761),\n",
       " ('recoup', 0.7373378276824951)]"
      ]
     },
     "execution_count": 43,
     "metadata": {},
     "output_type": "execute_result"
    }
   ],
   "source": [
    "model_sg.wv.most_similar('money', topn=5)"
   ]
  },
  {
   "cell_type": "code",
   "execution_count": 44,
   "metadata": {},
   "outputs": [
    {
     "data": {
      "text/plain": [
       "[('job', 0.8465257287025452),\n",
       " ('care', 0.8435542583465576),\n",
       " ('friendship', 0.8404434323310852),\n",
       " ('permission', 0.8280141353607178),\n",
       " ('chances', 0.8240001201629639)]"
      ]
     },
     "execution_count": 44,
     "metadata": {},
     "output_type": "execute_result"
    }
   ],
   "source": [
    "model_brown.wv.most_similar('money', topn=5)"
   ]
  },
  {
   "cell_type": "code",
   "execution_count": 45,
   "metadata": {},
   "outputs": [
    {
     "data": {
      "text/plain": [
       "[('cash', 0.7432961463928223),\n",
       " ('risk', 0.7189121246337891),\n",
       " ('paid', 0.7148017287254333),\n",
       " ('ransom', 0.7108563780784607),\n",
       " ('pay', 0.6836309432983398)]"
      ]
     },
     "execution_count": 45,
     "metadata": {},
     "output_type": "execute_result"
    }
   ],
   "source": [
    "model_movie.wv.most_similar('money', topn=5)"
   ]
  },
  {
   "cell_type": "markdown",
   "metadata": {},
   "source": [
    " \n",
    "I hope it’s pretty clear from the above examples that the semantic similarity of words can vary greatly depending on the textual context. "
   ]
  }
 ],
 "metadata": {
  "kernelspec": {
   "display_name": "Python 3",
   "language": "python",
   "name": "python3"
  },
  "language_info": {
   "codemirror_mode": {
    "name": "ipython",
    "version": 3
   },
   "file_extension": ".py",
   "mimetype": "text/x-python",
   "name": "python",
   "nbconvert_exporter": "python",
   "pygments_lexer": "ipython3",
   "version": "3.7.7"
  }
 },
 "nbformat": 4,
 "nbformat_minor": 2
}
